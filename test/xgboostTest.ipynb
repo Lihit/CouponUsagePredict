{
 "cells": [
  {
   "cell_type": "code",
   "execution_count": 2,
   "metadata": {
    "collapsed": true
   },
   "outputs": [
    {
     "name": "stdout",
     "output_type": "stream",
     "text": [
      "[0]\teval-auc:0.5\ttrain-auc:0.5\n"
     ]
    },
    {
     "name": "stdout",
     "output_type": "stream",
     "text": [
      "[1]\teval-auc:0.5\ttrain-auc:0.5\n"
     ]
    },
    {
     "name": "stdout",
     "output_type": "stream",
     "text": [
      "[2]\teval-auc:0.5\ttrain-auc:0.5\n"
     ]
    },
    {
     "name": "stdout",
     "output_type": "stream",
     "text": [
      "[3]\teval-auc:0.5\ttrain-auc:0.5\n"
     ]
    },
    {
     "name": "stdout",
     "output_type": "stream",
     "text": [
      "[4]\teval-auc:0.5\ttrain-auc:0.5\n"
     ]
    },
    {
     "name": "stdout",
     "output_type": "stream",
     "text": [
      "[5]\teval-auc:0.5\ttrain-auc:0.5\n"
     ]
    },
    {
     "name": "stdout",
     "output_type": "stream",
     "text": [
      "[6]\teval-auc:0.5\ttrain-auc:0.5\n"
     ]
    },
    {
     "name": "stdout",
     "output_type": "stream",
     "text": [
      "[7]\teval-auc:0.5\ttrain-auc:0.5\n"
     ]
    },
    {
     "name": "stdout",
     "output_type": "stream",
     "text": [
      "[8]\teval-auc:0.5\ttrain-auc:0.5\n"
     ]
    },
    {
     "name": "stdout",
     "output_type": "stream",
     "text": [
      "[9]\teval-auc:0.5\ttrain-auc:0.5\n"
     ]
    }
   ],
   "source": [
    "import numpy as np    \n",
    "import xgboost as xgb    \n",
    "data = np.random.rand(5,10) # 5 entities, each contains 10 features    \n",
    "label = np.random.randint(2, size=5) # binary target    \n",
    "dtrain = xgb.DMatrix( data, label=label)    \n",
    "    \n",
    "dtest = dtrain    \n",
    "    \n",
    "param = {'bst:max_depth':2, 'bst:eta':1, 'silent':1, 'objective':'binary:logistic' }    \n",
    "param['nthread'] = 4    \n",
    "param['eval_metric'] = 'auc'    \n",
    "    \n",
    "evallist  = [(dtest,'eval'), (dtrain,'train')]    \n",
    "    \n",
    "num_round = 10    \n",
    "bst = xgb.train( param, dtrain, num_round, evallist )    \n",
    "    \n",
    "bst.dump_model('dump.raw.txt')"
   ]
  },
  {
   "cell_type": "code",
   "execution_count": null,
   "metadata": {},
   "outputs": [],
   "source": [
    ""
   ]
  }
 ],
 "metadata": {
  "kernelspec": {
   "display_name": "Python 2",
   "language": "python",
   "name": "python2"
  },
  "language_info": {
   "codemirror_mode": {
    "name": "ipython",
    "version": 2.0
   },
   "file_extension": ".py",
   "mimetype": "text/x-python",
   "name": "python",
   "nbconvert_exporter": "python",
   "pygments_lexer": "ipython2",
   "version": "2.7.6"
  }
 },
 "nbformat": 4,
 "nbformat_minor": 0
}