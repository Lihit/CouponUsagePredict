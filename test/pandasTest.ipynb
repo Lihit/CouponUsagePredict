{
 "cells": [
  {
   "cell_type": "code",
   "execution_count": 3,
   "metadata": {
    "collapsed": false
   },
   "outputs": [
    {
     "name": "stderr",
     "output_type": "stream",
     "text": [
      "C:\\Users\\wenshao\\Anaconda3\\lib\\site-packages\\IPython\\core\\interactiveshell.py:2723: DtypeWarning: Columns (0,1) have mixed types. Specify dtype option on import or set low_memory=False.\n",
      "  interactivity=interactivity, compiler=compiler, result=result)\n",
      "C:\\Users\\wenshao\\Anaconda3\\lib\\site-packages\\IPython\\core\\interactiveshell.py:2723: DtypeWarning: Columns (0,1,2) have mixed types. Specify dtype option on import or set low_memory=False.\n",
      "  interactivity=interactivity, compiler=compiler, result=result)\n"
     ]
    }
   ],
   "source": [
    "off_train = pd.read_csv('../data/ccf_offline_stage1_train.csv', header=None)\n",
    "off_train.columns = ['user_id', 'merchant_id', 'coupon_id', 'discount_rate', 'distance', 'date_received', 'date']\n",
    "# 2050 coupon_id. date_received:20160701~20160731, 76309 users(76307 in trainset, 35965 in online_trainset), 1559 merchants(1558 in trainset)\n",
    "off_test = pd.read_csv('../data/ccf_offline_stage1_test_revised.csv', header=None)\n",
    "off_test.columns = ['user_id', 'merchant_id', 'coupon_id', 'discount_rate', 'distance', 'date_received']\n",
    "# 11429826 record(872357 with coupon_id),762858 user(267448 in off_train)\n",
    "on_train = pd.read_csv('../data/ccf_online_stage1_train.csv', header=None)\n",
    "on_train.columns = ['user_id', 'merchant_id', 'action', 'coupon_id', 'discount_rate', 'date_received', 'date']\n",
    "\n",
    "dataset3 = off_test\n",
    "feature3 = off_train[((off_train.date >= '20160315') & (off_train.date <= '20160630')) | (\n",
    "        (off_train.date == 'null') & (off_train.date_received >= '20160315') & (off_train.date_received <= '20160630'))]\n",
    "dataset2 = off_train[(off_train.date_received >= '20160515') & (off_train.date_received <= '20160615')]\n",
    "feature2 = off_train[(off_train.date >= '20160201') & (off_train.date <= '20160514') | (\n",
    "        (off_train.date == 'null') & (off_train.date_received >= '20160201') & (off_train.date_received <= '20160514'))]\n",
    "dataset1 = off_train[(off_train.date_received >= '20160414') & (off_train.date_received <= '20160514')]\n",
    "feature1 = off_train[(off_train.date >= '20160101') & (off_train.date <= '20160413') | (\n",
    "        (off_train.date == 'null') & (off_train.date_received >= '20160101') & (off_train.date_received <= '20160413'))]"
   ]
  },
  {
   "cell_type": "code",
   "execution_count": 1,
   "metadata": {
    "collapsed": true
   },
   "outputs": [],
   "source": [
    "import pandas as pd \n",
    "import numpy as np"
   ]
  },
  {
   "cell_type": "code",
   "execution_count": 4,
   "metadata": {
    "collapsed": false,
    "scrolled": true
   },
   "outputs": [
    {
     "name": "stdout",
     "output_type": "stream",
     "text": [
      "       user_id  this_month_user_receive_all_coupon_count\n",
      "0      1000020                                         1\n",
      "1      1000026                                         1\n",
      "2      1000452                                         1\n",
      "3      1000510                                         1\n",
      "4       100057                                         1\n",
      "5      1000651                                         1\n",
      "6      1000884                                         1\n",
      "7      1000907                                         1\n",
      "8      1000936                                         1\n",
      "9      1000986                                         1\n",
      "10     1001023                                         1\n",
      "11     1001176                                         3\n",
      "12      100122                                         2\n",
      "13     1001240                                         3\n",
      "14     1001257                                         1\n",
      "15     1001302                                         1\n",
      "16     1001466                                         1\n",
      "17      100150                                         1\n",
      "18     1001505                                         2\n",
      "19     1001525                                         1\n",
      "20     1001729                                         4\n",
      "21     1001771                                         1\n",
      "22     1001881                                         2\n",
      "23     1001954                                         1\n",
      "24     1001960                                         1\n",
      "25     1002013                                         1\n",
      "26     1002094                                         1\n",
      "27     1002150                                         1\n",
      "28     1002165                                         1\n",
      "29     1002360                                         1\n",
      "...        ...                                       ...\n",
      "76280   996346                                         1\n",
      "76281   996403                                         1\n",
      "76282    99657                                         1\n",
      "76283   996631                                         2\n",
      "76284   996755                                         1\n",
      "76285   996758                                         1\n",
      "76286    99708                                         1\n",
      "76287    99721                                         1\n",
      "76288   997367                                         3\n",
      "76289   997426                                         1\n",
      "76290   997688                                         1\n",
      "76291   997751                                         1\n",
      "76292   997802                                         4\n",
      "76293   997846                                         1\n",
      "76294   997992                                         1\n",
      "76295   998381                                         1\n",
      "76296   998639                                         1\n",
      "76297   998686                                         1\n",
      "76298   998717                                         2\n",
      "76299   998773                                         1\n",
      "76300   998807                                         1\n",
      "76301   998945                                         1\n",
      "76302   999137                                         1\n",
      "76303   999350                                         1\n",
      "76304   999659                                         2\n",
      "76305   999781                                         2\n",
      "76306   999842                                         1\n",
      "76307   999931                                         1\n",
      "76308    99996                                         1\n",
      "76309  User_id                                         1\n",
      "\n",
      "[76310 rows x 2 columns]\n"
     ]
    }
   ],
   "source": [
    "t = dataset3.loc[:,['user_id']]\n",
    "t['this_month_user_receive_all_coupon_count'] = 1\n",
    "t = t.groupby('user_id').agg('sum').reset_index()\n",
    "print(t)"
   ]
  },
  {
   "cell_type": "code",
   "execution_count": 6,
   "metadata": {
    "collapsed": false,
    "scrolled": true
   },
   "outputs": [
    {
     "name": "stdout",
     "output_type": "stream",
     "text": [
      "        user_id  coupon_id  this_month_user_receive_same_coupon_count\n",
      "0       1000020      13602                                          1\n",
      "1       1000026      13602                                          1\n",
      "2       1000452       9983                                          1\n",
      "3       1000510      10418                                          1\n",
      "4        100057       2601                                          1\n",
      "5       1000651      13602                                          1\n",
      "6       1000884      10438                                          1\n",
      "7       1000907       1904                                          1\n",
      "8       1000936       4203                                          1\n",
      "9       1000986      12429                                          1\n",
      "10      1001023      13602                                          1\n",
      "11      1001176      13181                                          1\n",
      "12      1001176        361                                          1\n",
      "13      1001176       3992                                          1\n",
      "14       100122      12735                                          1\n",
      "15       100122      13602                                          1\n",
      "16      1001240      10418                                          1\n",
      "17      1001240      13602                                          1\n",
      "18      1001240       2978                                          1\n",
      "19      1001257      11799                                          1\n",
      "20      1001302      13602                                          1\n",
      "21      1001466       9983                                          1\n",
      "22       100150      13602                                          1\n",
      "23      1001505      13602                                          1\n",
      "24      1001505       4283                                          1\n",
      "25      1001525      10418                                          1\n",
      "26      1001729      10418                                          1\n",
      "27      1001729      10438                                          1\n",
      "28      1001729      13602                                          1\n",
      "29      1001729       2978                                          1\n",
      "...         ...        ...                                        ...\n",
      "105929    99721      10438                                          1\n",
      "105930   997367      13602                                          1\n",
      "105931   997367       8059                                          1\n",
      "105932   997367       9983                                          1\n",
      "105933   997426      13602                                          1\n",
      "105934   997688      13602                                          1\n",
      "105935   997751      13602                                          1\n",
      "105936   997802       3443                                          2\n",
      "105937   997802       6465                                          1\n",
      "105938   997802       7459                                          1\n",
      "105939   997846        613                                          1\n",
      "105940   997992      13602                                          1\n",
      "105941   998381      13602                                          1\n",
      "105942   998639       2978                                          1\n",
      "105943   998686        768                                          1\n",
      "105944   998717      13602                                          1\n",
      "105945   998717       9983                                          1\n",
      "105946   998773       4185                                          1\n",
      "105947   998807      10418                                          1\n",
      "105948   998945      13602                                          1\n",
      "105949   999137       9983                                          1\n",
      "105950   999350      13602                                          1\n",
      "105951   999659      13191                                          1\n",
      "105952   999659       7517                                          1\n",
      "105953   999781      12027                                          1\n",
      "105954   999781       1904                                          1\n",
      "105955   999842       9983                                          1\n",
      "105956   999931      13320                                          1\n",
      "105957    99996      13602                                          1\n",
      "105958  User_id  Coupon_id                                          1\n",
      "\n",
      "[105959 rows x 3 columns]\n"
     ]
    }
   ],
   "source": [
    "t1 = dataset3.loc[:,['user_id', 'coupon_id']]\n",
    "t1['this_month_user_receive_same_coupon_count'] = 1\n",
    "t1 = t1.groupby(['user_id', 'coupon_id']).agg('sum').reset_index()\n",
    "print(t1)"
   ]
  },
  {
   "cell_type": "code",
   "execution_count": 9,
   "metadata": {
    "collapsed": false,
    "scrolled": true
   },
   "outputs": [
    {
     "name": "stdout",
     "output_type": "stream",
     "text": [
      "        user_id  coupon_id  date_received\n",
      "0       User_id  Coupon_id  Date_received\n",
      "1       4129537       9983       20160712\n",
      "2       6949378       3429       20160706\n",
      "3       2166529       6928       20160727\n",
      "4       2166529       1808       20160727\n",
      "5       6172162       6500       20160708\n",
      "6       4005121       9983       20160706\n",
      "7       4347394       9983       20160716\n",
      "8       3094273      13602       20160727\n",
      "9       5139970       9983       20160729\n",
      "10      3237121      13602       20160703\n",
      "11      6224386       9983       20160716\n",
      "12      6488578      13602       20160712\n",
      "13      4164865       9983       20160703\n",
      "14      4164865       8059       20160706\n",
      "15      5468674       9983       20160713\n",
      "16      6258178       9144       20160706\n",
      "17      3659521       7341       20160727\n",
      "18      3659521      13181       20160717\n",
      "19      3659521      13602       20160718\n",
      "20      7333378      13602       20160704\n",
      "21      7333378        785       20160727\n",
      "22      4454914       2978       20160711\n",
      "23      6817282       8375       20160724\n",
      "24      3149569      10418       20160721\n",
      "25      6301186       1715       20160718\n",
      "26      6301186       4203       20160708\n",
      "27      2891521      13602       20160724\n",
      "28      3422977      13602       20160727\n",
      "29      4771330      13602       20160726\n",
      "...         ...        ...            ...\n",
      "113611  4194809      11799       20160717\n",
      "113612  4194809      13602       20160713\n",
      "113613  6062585      10438       20160719\n",
      "113614  6062585      13602       20160719\n",
      "113615  6074873        878       20160724\n",
      "113616  6342137      13602       20160728\n",
      "113617  6342137       8059       20160704\n",
      "113618  6342137       9822       20160724\n",
      "113619  6342137       3429       20160718\n",
      "113620  4317689       5933       20160727\n",
      "113621  5110265      13602       20160711\n",
      "113622  5110265       9983       20160711\n",
      "113623  6422009       5874       20160710\n",
      "113624  4851197       9983       20160713\n",
      "113625  4894205       2978       20160711\n",
      "113626  7253501      13602       20160714\n",
      "113627  6485501      13602       20160720\n",
      "113628  4918781      10438       20160723\n",
      "113629  6497789       9983       20160716\n",
      "113630  7047677       2601       20160708\n",
      "113631  6786557       9983       20160718\n",
      "113632  6801917      13602       20160719\n",
      "113633  7066109       9144       20160705\n",
      "113634  4451837      13602       20160723\n",
      "113635  5828093       2978       20160716\n",
      "113636  5828093      10418       20160716\n",
      "113637  6626813       7595       20160707\n",
      "113638  6626813       7590       20160712\n",
      "113639  4547069      13602       20160717\n",
      "113640  6675965        613       20160728\n",
      "\n",
      "[113641 rows x 3 columns]\n"
     ]
    }
   ],
   "source": [
    "t2 = dataset3.loc[:,['user_id', 'coupon_id', 'date_received']]\n",
    "t2.date_received = t2.date_received.astype('str')\n",
    "print(t2)"
   ]
  },
  {
   "cell_type": "code",
   "execution_count": null,
   "metadata": {
    "collapsed": true
   },
   "outputs": [],
   "source": [
    "t2 = t2.groupby(['user_id', 'coupon_id'])['date_received'].agg(lambda x: ':'.join(x)).reset_index()\n",
    "t2['receive_number'] = t2.date_received.apply(lambda s: len(s.split(':')))"
   ]
  },
  {
   "cell_type": "code",
   "execution_count": null,
   "metadata": {
    "collapsed": true
   },
   "outputs": [],
   "source": [
    "off_train = pd.read_csv('../data/ccf_offline_stage1_train.csv', header=None)\n",
    "print()"
   ]
  },
  {
   "cell_type": "code",
   "execution_count": 10,
   "metadata": {
    "collapsed": true
   },
   "outputs": [],
   "source": [
    "import os\n",
    "DataDir = '../data'\n",
    "SplitDataPath = os.path.join(DataDir, 'SplitData')"
   ]
  },
  {
   "cell_type": "code",
   "execution_count": 11,
   "metadata": {
    "collapsed": true
   },
   "outputs": [],
   "source": [
    "feature3 = pd.read_csv(os.path.join(SplitDataPath, 'feature3.csv'))"
   ]
  },
  {
   "cell_type": "code",
   "execution_count": 13,
   "metadata": {
    "collapsed": false
   },
   "outputs": [
    {
     "name": "stdout",
     "output_type": "stream",
     "text": [
      "Index(['user_id', 'merchant_id', 'coupon_id', 'discount_rate', 'distance',\n",
      "       'date_received', 'date'],\n",
      "      dtype='object')\n"
     ]
    }
   ],
   "source": [
    "print(feature3.columns)"
   ]
  },
  {
   "cell_type": "code",
   "execution_count": 15,
   "metadata": {
    "collapsed": false
   },
   "outputs": [
    {
     "name": "stdout",
     "output_type": "stream",
     "text": [
      "RangeIndex(start=0, stop=1036975, step=1)\n"
     ]
    }
   ],
   "source": [
    "print(feature3.index)"
   ]
  },
  {
   "cell_type": "code",
   "execution_count": 17,
   "metadata": {
    "collapsed": false
   },
   "outputs": [
    {
     "name": "stdout",
     "output_type": "stream",
     "text": [
      "[[1439408 4663 '11002' ... '1' '20160528' 'null']\n",
      " [1439408 2632 '1078' ... '0' '20160319' 'null']\n",
      " [1439408 2632 '8591' ... '0' '20160613' 'null']\n",
      " ...\n",
      " [212662 2934 'null' ... '2' 'null' '20160321']\n",
      " [752472 7113 '1633' ... '6' '20160613' 'null']\n",
      " [752472 3621 '2705' ... '0' '20160523' 'null']]\n"
     ]
    }
   ],
   "source": [
    "print(feature3.values)"
   ]
  },
  {
   "cell_type": "code",
   "execution_count": 23,
   "metadata": {
    "collapsed": false
   },
   "outputs": [
    {
     "name": "stdout",
     "output_type": "stream",
     "text": [
      "['1']\n"
     ]
    }
   ],
   "source": [
    "import re\n",
    "s = 'dataset1.csv'\n",
    "ret = re.findall('dataset(\\d+)\\.csv',s)\n",
    "print(ret)"
   ]
  },
  {
   "cell_type": "code",
   "execution_count": null,
   "metadata": {
    "collapsed": true
   },
   "outputs": [],
   "source": []
  }
 ],
 "metadata": {
  "kernelspec": {
   "display_name": "Python 3",
   "language": "python",
   "name": "python3"
  },
  "language_info": {
   "codemirror_mode": {
    "name": "ipython",
    "version": 3
   },
   "file_extension": ".py",
   "mimetype": "text/x-python",
   "name": "python",
   "nbconvert_exporter": "python",
   "pygments_lexer": "ipython3",
   "version": "3.5.4"
  }
 },
 "nbformat": 4,
 "nbformat_minor": 0
}
