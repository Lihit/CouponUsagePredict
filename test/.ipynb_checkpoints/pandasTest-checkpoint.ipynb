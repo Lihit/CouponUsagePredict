{
 "cells": [
  {
   "cell_type": "code",
   "execution_count": 3,
   "metadata": {
    "collapsed": false
   },
   "outputs": [
    {
     "name": "stderr",
     "output_type": "stream",
     "text": [
      "C:\\Users\\wenshao\\Anaconda3\\lib\\site-packages\\IPython\\core\\interactiveshell.py:2723: DtypeWarning: Columns (0,1) have mixed types. Specify dtype option on import or set low_memory=False.\n",
      "  interactivity=interactivity, compiler=compiler, result=result)\n",
      "C:\\Users\\wenshao\\Anaconda3\\lib\\site-packages\\IPython\\core\\interactiveshell.py:2723: DtypeWarning: Columns (0,1,2) have mixed types. Specify dtype option on import or set low_memory=False.\n",
      "  interactivity=interactivity, compiler=compiler, result=result)\n"
     ]
    }
   ],
   "source": [
    "off_train = pd.read_csv('../data/ccf_offline_stage1_train.csv', header=None)\n",
    "off_train.columns = ['user_id', 'merchant_id', 'coupon_id', 'discount_rate', 'distance', 'date_received', 'date']\n",
    "# 2050 coupon_id. date_received:20160701~20160731, 76309 users(76307 in trainset, 35965 in online_trainset), 1559 merchants(1558 in trainset)\n",
    "off_test = pd.read_csv('../data/ccf_offline_stage1_test_revised.csv', header=None)\n",
    "off_test.columns = ['user_id', 'merchant_id', 'coupon_id', 'discount_rate', 'distance', 'date_received']\n",
    "# 11429826 record(872357 with coupon_id),762858 user(267448 in off_train)\n",
    "on_train = pd.read_csv('../data/ccf_online_stage1_train.csv', header=None)\n",
    "on_train.columns = ['user_id', 'merchant_id', 'action', 'coupon_id', 'discount_rate', 'date_received', 'date']\n",
    "\n",
    "dataset3 = off_test\n",
    "feature3 = off_train[((off_train.date >= '20160315') & (off_train.date <= '20160630')) | (\n",
    "        (off_train.date == 'null') & (off_train.date_received >= '20160315') & (off_train.date_received <= '20160630'))]\n",
    "dataset2 = off_train[(off_train.date_received >= '20160515') & (off_train.date_received <= '20160615')]\n",
    "feature2 = off_train[(off_train.date >= '20160201') & (off_train.date <= '20160514') | (\n",
    "        (off_train.date == 'null') & (off_train.date_received >= '20160201') & (off_train.date_received <= '20160514'))]\n",
    "dataset1 = off_train[(off_train.date_received >= '20160414') & (off_train.date_received <= '20160514')]\n",
    "feature1 = off_train[(off_train.date >= '20160101') & (off_train.date <= '20160413') | (\n",
    "        (off_train.date == 'null') & (off_train.date_received >= '20160101') & (off_train.date_received <= '20160413'))]"
   ]
  },
  {
   "cell_type": "code",
   "execution_count": 1,
   "metadata": {
    "collapsed": true
   },
   "outputs": [],
   "source": [
    "import pandas as pd \n",
    "import numpy as np"
   ]
  },
  {
   "cell_type": "code",
   "execution_count": 11,
   "metadata": {
    "collapsed": true
   },
   "outputs": [
    {
     "name": "stdout",
     "output_type": "stream",
     "text": [
      "       user_id  this_month_user_receive_all_coupon_count\n",
      "0      1000020                                         1\n",
      "1      1000026                                         1\n",
      "2      1000452                                         1\n",
      "3      1000510                                         1\n",
      "4       100057                                         1\n",
      "5      1000651                                         1\n",
      "6      1000884                                         1\n",
      "7      1000907                                         1\n",
      "8      1000936                                         1\n",
      "9      1000986                                         1\n",
      "10     1001023                                         1\n",
      "11     1001176                                         3\n",
      "12      100122                                         2\n",
      "13     1001240                                         3\n",
      "14     1001257                                         1\n",
      "15     1001302                                         1\n",
      "16     1001466                                         1\n",
      "17      100150                                         1\n",
      "18     1001505                                         2\n",
      "19     1001525                                         1\n",
      "20     1001729                                         4\n",
      "21     1001771                                         1\n",
      "22     1001881                                         2\n",
      "23     1001954                                         1\n",
      "24     1001960                                         1\n",
      "25     1002013                                         1\n",
      "26     1002094                                         1\n",
      "27     1002150                                         1\n",
      "28     1002165                                         1\n",
      "29     1002360                                         1\n",
      "...        ...                                       ...\n",
      "76280   996346                                         1\n",
      "76281   996403                                         1\n",
      "76282    99657                                         1\n",
      "76283   996631                                         2\n",
      "76284   996755                                         1\n",
      "76285   996758                                         1\n",
      "76286    99708                                         1\n",
      "76287    99721                                         1\n",
      "76288   997367                                         3\n",
      "76289   997426                                         1\n",
      "76290   997688                                         1\n",
      "76291   997751                                         1\n",
      "76292   997802                                         4\n",
      "76293   997846                                         1\n",
      "76294   997992                                         1\n",
      "76295   998381                                         1\n",
      "76296   998639                                         1\n",
      "76297   998686                                         1\n",
      "76298   998717                                         2\n",
      "76299   998773                                         1\n",
      "76300   998807                                         1\n",
      "76301   998945                                         1\n",
      "76302   999137                                         1\n",
      "76303   999350                                         1\n",
      "76304   999659                                         2\n",
      "76305   999781                                         2\n",
      "76306   999842                                         1\n",
      "76307   999931                                         1\n",
      "76308    99996                                         1\n",
      "76309  User_id                                         1\n",
      "\n",
      "[76310 rows x 2 columns]\n"
     ]
    }
   ],
   "source": [
    "t = dataset3.loc[:,['user_id']]\n",
    "t['this_month_user_receive_all_coupon_count'] = 1\n",
    "t = t.groupby('user_id').agg('sum').reset_index()\n",
    "print(t)"
   ]
  },
  {
   "cell_type": "code",
   "execution_count": 12,
   "metadata": {
    "collapsed": true
   },
   "outputs": [],
   "source": []
  },
  {
   "cell_type": "code",
   "execution_count": null,
   "metadata": {
    "collapsed": true
   },
   "outputs": [],
   "source": []
  }
 ],
 "metadata": {
  "kernelspec": {
   "display_name": "Python 3",
   "language": "python",
   "name": "python3"
  },
  "language_info": {
   "codemirror_mode": {
    "name": "ipython",
    "version": 3
   },
   "file_extension": ".py",
   "mimetype": "text/x-python",
   "name": "python",
   "nbconvert_exporter": "python",
   "pygments_lexer": "ipython3",
   "version": "3.5.4"
  }
 },
 "nbformat": 4,
 "nbformat_minor": 0
}
